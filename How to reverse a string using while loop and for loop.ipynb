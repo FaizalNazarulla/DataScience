{
 "cells": [
  {
   "cell_type": "code",
   "execution_count": 1,
   "id": "e73bc125",
   "metadata": {},
   "outputs": [],
   "source": [
    "name = \"Faizal\""
   ]
  },
  {
   "cell_type": "code",
   "execution_count": 3,
   "id": "a00e3e57",
   "metadata": {},
   "outputs": [
    {
     "name": "stdout",
     "output_type": "stream",
     "text": [
      "laziaF"
     ]
    }
   ],
   "source": [
    "# using for loop\n",
    "for i in range(len(name)-1,-1,-1):\n",
    "    print(name[i], end= \"\")\n",
    "    "
   ]
  },
  {
   "cell_type": "code",
   "execution_count": 4,
   "id": "8425be9a",
   "metadata": {},
   "outputs": [
    {
     "name": "stdout",
     "output_type": "stream",
     "text": [
      "laziaF\n"
     ]
    }
   ],
   "source": [
    "# using while loop\n",
    "\n",
    "count = \"\"\n",
    "i = len(name) - 1\n",
    "while i>=0:\n",
    "    count += name[i]\n",
    "    i -= 1\n",
    "print(count)\n"
   ]
  },
  {
   "cell_type": "code",
   "execution_count": 8,
   "id": "6b3a55a2",
   "metadata": {},
   "outputs": [
    {
     "data": {
      "text/plain": [
       "'laziaF'"
      ]
     },
     "execution_count": 8,
     "metadata": {},
     "output_type": "execute_result"
    }
   ],
   "source": [
    "# using slicing method\n",
    "\n",
    "name[::-1]"
   ]
  },
  {
   "cell_type": "code",
   "execution_count": 9,
   "id": "465748ab",
   "metadata": {},
   "outputs": [
    {
     "data": {
      "text/plain": [
       "'laziaF'"
      ]
     },
     "execution_count": 9,
     "metadata": {},
     "output_type": "execute_result"
    }
   ],
   "source": [
    "# using reverse method\n",
    "\n",
    "\"\".join(reversed(name))"
   ]
  },
  {
   "cell_type": "code",
   "execution_count": null,
   "id": "4e3a3a0a",
   "metadata": {},
   "outputs": [],
   "source": []
  }
 ],
 "metadata": {
  "kernelspec": {
   "display_name": "Python 3 (ipykernel)",
   "language": "python",
   "name": "python3"
  },
  "language_info": {
   "codemirror_mode": {
    "name": "ipython",
    "version": 3
   },
   "file_extension": ".py",
   "mimetype": "text/x-python",
   "name": "python",
   "nbconvert_exporter": "python",
   "pygments_lexer": "ipython3",
   "version": "3.11.4"
  }
 },
 "nbformat": 4,
 "nbformat_minor": 5
}
