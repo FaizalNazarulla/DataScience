{
  "nbformat": 4,
  "nbformat_minor": 0,
  "metadata": {
    "colab": {
      "provenance": []
    },
    "kernelspec": {
      "name": "python3",
      "display_name": "Python 3"
    },
    "language_info": {
      "name": "python"
    }
  },
  "cells": [
    {
      "cell_type": "code",
      "execution_count": null,
      "metadata": {
        "id": "UJx99sxKCNNh"
      },
      "outputs": [],
      "source": [
        "'''Q1. Create one variable containing following type of data:\n",
        "(i) string\n",
        "(ii) list\n",
        "(iii) float\n",
        "(iv) tuple'''"
      ]
    },
    {
      "cell_type": "code",
      "source": [
        "var_a = \"Faizal Nazarulla\"\n",
        "var_b = [1,2,5.5,True,5+6j]\n",
        "var_c = 2.9\n",
        "var_d = (5,6,9,8,10)"
      ],
      "metadata": {
        "id": "AxzEhHkqCtXl"
      },
      "execution_count": 2,
      "outputs": []
    },
    {
      "cell_type": "code",
      "source": [
        "'''Q2. Given are some following variables containing data:\n",
        "(i) var1 = ‘ ‘\n",
        "(ii) var2 = ‘[ DS , ML , Python]’\n",
        "(iii) var3 = [ ‘DS’ , ’ML’ , ‘Python’ ]\n",
        "(iv) var4 = 1.\n",
        "What will be the data type of the above given variable.'''"
      ],
      "metadata": {
        "id": "zW8H8d5lDNeU"
      },
      "execution_count": null,
      "outputs": []
    },
    {
      "cell_type": "code",
      "source": [
        "'''\n",
        " i) = none\n",
        "ii) = string\n",
        "iii) = List\n",
        "iv) = Integer\n",
        "'''"
      ],
      "metadata": {
        "id": "PKzHwsiVDQc7"
      },
      "execution_count": null,
      "outputs": []
    },
    {
      "cell_type": "code",
      "source": [
        "''' Q3. Explain the use of the following operators using an example:\n",
        "(i) /\n",
        "(ii) %\n",
        "(iii) //\n",
        "(iv) ** '''"
      ],
      "metadata": {
        "id": "vlGM2eV6DhCL"
      },
      "execution_count": null,
      "outputs": []
    },
    {
      "cell_type": "code",
      "source": [
        "''' i) Division Operator\n",
        "   ii) Modulus Operator\n",
        "  iii) Floor Division Operator\n",
        "   iv) Exponentiation Operator '''"
      ],
      "metadata": {
        "id": "DoYNb9UqEN4M"
      },
      "execution_count": null,
      "outputs": []
    },
    {
      "cell_type": "code",
      "source": [
        "''' Q4. Create a list of length 10 of your choice containing multiple types of data. Using for loop print the\n",
        "element and its data type. '''"
      ],
      "metadata": {
        "id": "6e7OW35EE7Ai"
      },
      "execution_count": null,
      "outputs": []
    },
    {
      "cell_type": "code",
      "source": [
        "lst = [1,2.2,5+6j,True,\"Faizal\",[1,2,3],(5,6,9),{\"name\" : \"Faizal\",\"Age\": 25 },False,{7,8,9}]\n",
        "\n",
        "for i in lst:\n",
        "  print(f\"Element = {i} Data_Type = {type(i)}\")"
      ],
      "metadata": {
        "colab": {
          "base_uri": "https://localhost:8080/"
        },
        "id": "nNFhI4DnFAG5",
        "outputId": "f52e91ae-17eb-4f4e-92b1-bde75864f778"
      },
      "execution_count": 16,
      "outputs": [
        {
          "output_type": "stream",
          "name": "stdout",
          "text": [
            "Element = 1 Data_Type = <class 'int'>\n",
            "Element = 2.2 Data_Type = <class 'float'>\n",
            "Element = (5+6j) Data_Type = <class 'complex'>\n",
            "Element = True Data_Type = <class 'bool'>\n",
            "Element = Faizal Data_Type = <class 'str'>\n",
            "Element = [1, 2, 3] Data_Type = <class 'list'>\n",
            "Element = (5, 6, 9) Data_Type = <class 'tuple'>\n",
            "Element = {'name': 'Faizal', 'Age': 25} Data_Type = <class 'dict'>\n",
            "Element = False Data_Type = <class 'bool'>\n",
            "Element = {8, 9, 7} Data_Type = <class 'set'>\n"
          ]
        }
      ]
    },
    {
      "cell_type": "code",
      "source": [
        "''' Q5. Using a while loop, verify if the number A is purely divisible by number B and if so then how many\n",
        "times it can be divisible.'''"
      ],
      "metadata": {
        "id": "yyTAfAz6GaPC"
      },
      "execution_count": null,
      "outputs": []
    },
    {
      "cell_type": "code",
      "source": [
        "numberA = int(input(\"Enter the Number \"))\n",
        "numberB = int(input(\"Enter the Number \"))\n",
        "\n",
        "count = 0\n",
        "while numberA >= numberB:\n",
        "  numberA -= numberB\n",
        "  count += 1\n",
        "  if numberA%numberB == 0:\n",
        "    print(f\"{numberA} is divisible by {numberB}\")\n",
        "    print(f\"{numberB} divides {numberA} by {count} times\")\n",
        "else: print(f\"{numberA} is not divisble by {numberB}\")\n",
        "\n",
        "\n",
        ""
      ],
      "metadata": {
        "colab": {
          "base_uri": "https://localhost:8080/"
        },
        "id": "CqUtbr60HMDR",
        "outputId": "79a1e407-6477-4889-b75f-97ea5f95a394"
      },
      "execution_count": 19,
      "outputs": [
        {
          "output_type": "stream",
          "name": "stdout",
          "text": [
            "Enter the Number 50\n",
            "Enter the Number 3\n",
            "2 is not divisble by 3\n"
          ]
        }
      ]
    },
    {
      "cell_type": "code",
      "source": [
        "'''Q6. Create a list containing 25 int type data. Using for loop and if-else condition print if the element is\n",
        "divisible by 3 or not.'''\n",
        "\n"
      ],
      "metadata": {
        "id": "R1M8dTOjHXOo"
      },
      "execution_count": null,
      "outputs": []
    },
    {
      "cell_type": "code",
      "source": [
        "lst1 = [1,2,3,4,5,6,7,8,9,10,11,12,13,14,15,16,17,18,19,20,21,22,23,24,25]\n",
        "\n",
        "for i in lst1:\n",
        "  if i%3==0:\n",
        "    print(f\"{i} is divisible ny 3\")\n",
        "  else: print(f\"{i} is not divisible by 3\")"
      ],
      "metadata": {
        "colab": {
          "base_uri": "https://localhost:8080/"
        },
        "id": "hn4KfL1XLQLV",
        "outputId": "8d571f16-2973-44a4-e468-c064c5531cf1"
      },
      "execution_count": 21,
      "outputs": [
        {
          "output_type": "stream",
          "name": "stdout",
          "text": [
            "1 is not divisible by 3\n",
            "2 is not divisible by 3\n",
            "3 is divisible ny 3\n",
            "4 is not divisible by 3\n",
            "5 is not divisible by 3\n",
            "6 is divisible ny 3\n",
            "7 is not divisible by 3\n",
            "8 is not divisible by 3\n",
            "9 is divisible ny 3\n",
            "10 is not divisible by 3\n",
            "11 is not divisible by 3\n",
            "12 is divisible ny 3\n",
            "13 is not divisible by 3\n",
            "14 is not divisible by 3\n",
            "15 is divisible ny 3\n",
            "16 is not divisible by 3\n",
            "17 is not divisible by 3\n",
            "18 is divisible ny 3\n",
            "19 is not divisible by 3\n",
            "20 is not divisible by 3\n",
            "21 is divisible ny 3\n",
            "22 is not divisible by 3\n",
            "23 is not divisible by 3\n",
            "24 is divisible ny 3\n",
            "25 is not divisible by 3\n"
          ]
        }
      ]
    },
    {
      "cell_type": "code",
      "source": [
        "''' Q7. What do you understand about mutable and immutable data types? Give examples for both showing\n",
        "this property.'''\n"
      ],
      "metadata": {
        "id": "OY_j-FYgV4rr"
      },
      "execution_count": null,
      "outputs": []
    },
    {
      "cell_type": "code",
      "source": [
        "# Mutable data types are those whose values can be modified after creation.\n",
        "# Immutable data types are those whose values cannot be modified after creation."
      ],
      "metadata": {
        "id": "AXG4E7z8WMPj"
      },
      "execution_count": null,
      "outputs": []
    },
    {
      "cell_type": "code",
      "source": [
        "a = [\"faizal\",1,2]\n",
        "a[0] = \"Faizal Nazarulla\""
      ],
      "metadata": {
        "id": "hO2daK3XWq4z"
      },
      "execution_count": 27,
      "outputs": []
    },
    {
      "cell_type": "code",
      "source": [
        "a"
      ],
      "metadata": {
        "colab": {
          "base_uri": "https://localhost:8080/"
        },
        "id": "Xb17E4kfWy46",
        "outputId": "ffdfb18c-787d-4bab-f0e0-26d8b6e0d496"
      },
      "execution_count": 28,
      "outputs": [
        {
          "output_type": "execute_result",
          "data": {
            "text/plain": [
              "['Faizal Nazarulla', 1, 2]"
            ]
          },
          "metadata": {},
          "execution_count": 28
        }
      ]
    },
    {
      "cell_type": "code",
      "source": [
        "b = \"Faizal\"\n",
        "a[3] = s"
      ],
      "metadata": {
        "colab": {
          "base_uri": "https://localhost:8080/",
          "height": 194
        },
        "id": "JGWXji4CW-fj",
        "outputId": "298c83b6-befc-43d0-fff4-f8e03ed1f188"
      },
      "execution_count": 30,
      "outputs": [
        {
          "output_type": "error",
          "ename": "NameError",
          "evalue": "ignored",
          "traceback": [
            "\u001b[0;31m---------------------------------------------------------------------------\u001b[0m",
            "\u001b[0;31mNameError\u001b[0m                                 Traceback (most recent call last)",
            "\u001b[0;32m<ipython-input-30-e66bb68f1d3e>\u001b[0m in \u001b[0;36m<cell line: 2>\u001b[0;34m()\u001b[0m\n\u001b[1;32m      1\u001b[0m \u001b[0mb\u001b[0m \u001b[0;34m=\u001b[0m \u001b[0;34m\"Faizal\"\u001b[0m\u001b[0;34m\u001b[0m\u001b[0;34m\u001b[0m\u001b[0m\n\u001b[0;32m----> 2\u001b[0;31m \u001b[0ma\u001b[0m\u001b[0;34m[\u001b[0m\u001b[0;36m3\u001b[0m\u001b[0;34m]\u001b[0m \u001b[0;34m=\u001b[0m \u001b[0ms\u001b[0m\u001b[0;34m\u001b[0m\u001b[0;34m\u001b[0m\u001b[0m\n\u001b[0m",
            "\u001b[0;31mNameError\u001b[0m: name 's' is not defined"
          ]
        }
      ]
    },
    {
      "cell_type": "code",
      "source": [],
      "metadata": {
        "id": "Fy-wfRXMXJ6C"
      },
      "execution_count": null,
      "outputs": []
    }
  ]
}