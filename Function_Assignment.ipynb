{
 "cells": [
  {
   "cell_type": "code",
   "execution_count": null,
   "id": "7b98b883",
   "metadata": {},
   "outputs": [],
   "source": [
    "''''Q1. Which keyword is used to create a function? Create a function to return a list of odd numbers in the\n",
    "range of 1 to 25.'''"
   ]
  },
  {
   "cell_type": "code",
   "execution_count": 2,
   "id": "0d143af9",
   "metadata": {},
   "outputs": [
    {
     "data": {
      "text/plain": [
       "[1, 3, 5, 7, 9, 11, 13, 15, 17, 19, 21, 23, 25]"
      ]
     },
     "execution_count": 2,
     "metadata": {},
     "output_type": "execute_result"
    }
   ],
   "source": [
    "#def\n",
    "\n",
    "L = [1,2,3,4,5,6,7,8,9,11,12,13,14,15,16,17,18,19,20,21,22,23,24,25]\n",
    "\n",
    "def odd_numbers(a):\n",
    "    List_of_odd_numbers = []\n",
    "    for i in L:\n",
    "        if i%2!=0:\n",
    "            List_of_odd_numbers.append(i)\n",
    "    return List_of_odd_numbers    \n",
    "\n",
    "odd_numbers(L)\n",
    "            \n",
    "            "
   ]
  },
  {
   "cell_type": "code",
   "execution_count": null,
   "id": "2130d603",
   "metadata": {},
   "outputs": [],
   "source": [
    "''''Q2. Why *args and **kwargs is used in some functions? Create a function each for *args and **kwargs to\n",
    "demonstrate their use.'''"
   ]
  },
  {
   "cell_type": "code",
   "execution_count": 16,
   "id": "cefcbdfc",
   "metadata": {
    "scrolled": true
   },
   "outputs": [
    {
     "name": "stdout",
     "output_type": "stream",
     "text": [
      "(1, 2, 3, 4, 5)\n",
      "{'name': 'faizal', 'age': 25, 'weight': 90}\n"
     ]
    }
   ],
   "source": [
    "# *args is used to add \"n\" number of arguments to the functions\n",
    "# **kwargs is used to add 'n' number of key and value arguments to the functions\n",
    "\n",
    "def test(*args):\n",
    "    return args\n",
    "\n",
    "test(1,2,3,4,5)\n",
    "\n",
    "def test1(**args):\n",
    "    return args\n",
    "\n",
    "test1(name=\"faizal\",age= 25,weight=90)\n",
    "\n",
    "print(test(1,2,3,4,5))\n",
    "print(\n",
    "test1(name=\"faizal\",age= 25,weight=90))"
   ]
  },
  {
   "cell_type": "code",
   "execution_count": null,
   "id": "1d12c90f",
   "metadata": {},
   "outputs": [],
   "source": [
    "''''Q3. What is an iterator in python? Name the method used to initialise the iterator object and the method\n",
    "used for iteration. Use these methods to print the first five elements of the given list [2, 4, 6, 8, 10, 12, 14, 16,\n",
    "18, 20].'''"
   ]
  },
  {
   "cell_type": "code",
   "execution_count": 32,
   "id": "409c8498",
   "metadata": {},
   "outputs": [
    {
     "name": "stdout",
     "output_type": "stream",
     "text": [
      "2\n",
      "4\n",
      "6\n",
      "8\n",
      "10\n"
     ]
    }
   ],
   "source": [
    "#An iterator in Python is an object that allows you to iterate through a collection of items, one at a time without having to store the entire data in the memory.\n",
    "\n",
    "# method used to initialise the iterator object and the method used for iteration = \"iter()\" and \"next()\"\n",
    "\n",
    "L = [2, 4, 6, 8, 10, 12, 14, 16,18,20]\n",
    "\n",
    "iterator = iter(L)\n",
    "\n",
    "for i in range(5):\n",
    "    iteration = next(iterator)\n",
    "    \n",
    "    print(iteration)"
   ]
  },
  {
   "cell_type": "code",
   "execution_count": 30,
   "id": "6336371d",
   "metadata": {},
   "outputs": [],
   "source": [
    "''''Q4. What is a generator function in python? Why yield keyword is used? Give an example of a generator\n",
    "function.'''\n",
    "\n",
    "# A generator function in Python is a special type of function that returns an iterator, which can be used to generate a sequence of values on-the-fly.\n",
    "\n",
    "# yield enables the efficient generation of large sequences of values without needing to store them all in memory simultaneously.\n",
    "\n"
   ]
  },
  {
   "cell_type": "code",
   "execution_count": 46,
   "id": "886006b8",
   "metadata": {},
   "outputs": [
    {
     "name": "stdout",
     "output_type": "stream",
     "text": [
      "4\n",
      "16\n",
      "36\n",
      "64\n",
      "100\n",
      "144\n",
      "196\n",
      "256\n",
      "324\n",
      "400\n"
     ]
    }
   ],
   "source": [
    "def test(a):\n",
    "    for i in a:\n",
    "        yield i**2\n",
    "    \n",
    "a = test(L)\n",
    "for i in a:\n",
    "    print(i)"
   ]
  },
  {
   "cell_type": "code",
   "execution_count": null,
   "id": "08c1e66b",
   "metadata": {},
   "outputs": [],
   "source": [
    "''''Q5. Create a generator function for prime numbers less than 1000. Use the next() method to print the\n",
    "first 20 prime numbers.'''"
   ]
  },
  {
   "cell_type": "code",
   "execution_count": 63,
   "id": "d7c891c7",
   "metadata": {
    "scrolled": true
   },
   "outputs": [
    {
     "name": "stdout",
     "output_type": "stream",
     "text": [
      "2\n",
      "3\n",
      "5\n",
      "7\n",
      "11\n",
      "13\n",
      "17\n",
      "19\n",
      "23\n",
      "29\n",
      "31\n",
      "37\n",
      "41\n",
      "43\n",
      "47\n",
      "53\n",
      "59\n",
      "61\n",
      "67\n",
      "71\n"
     ]
    }
   ],
   "source": [
    "def prime_num(a):\n",
    "    for i in range(1000):\n",
    "        if i>1:\n",
    "            for j in range(2,i):\n",
    "                \n",
    "                if i%j==0:\n",
    "                    break\n",
    "            else: yield i \n",
    "first_20 = prime_num(range(1000))   \n",
    "\n",
    "for k in range(20):\n",
    "    print(next(first_20))\n",
    "    \n",
    "     \n",
    "    "
   ]
  },
  {
   "cell_type": "code",
   "execution_count": null,
   "id": "624af18b",
   "metadata": {},
   "outputs": [],
   "source": []
  }
 ],
 "metadata": {
  "kernelspec": {
   "display_name": "Python 3 (ipykernel)",
   "language": "python",
   "name": "python3"
  },
  "language_info": {
   "codemirror_mode": {
    "name": "ipython",
    "version": 3
   },
   "file_extension": ".py",
   "mimetype": "text/x-python",
   "name": "python",
   "nbconvert_exporter": "python",
   "pygments_lexer": "ipython3",
   "version": "3.11.4"
  }
 },
 "nbformat": 4,
 "nbformat_minor": 5
}
